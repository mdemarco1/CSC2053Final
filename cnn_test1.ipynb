{
  "nbformat": 4,
  "nbformat_minor": 0,
  "metadata": {
    "colab": {
      "provenance": [],
      "gpuType": "T4",
      "mount_file_id": "1ZfuZJNEmo5GUQW3xG4lWgNLrao5aNcbs",
      "authorship_tag": "ABX9TyOmg6JNJQhJ0X1iVlVFV3vc",
      "include_colab_link": true
    },
    "kernelspec": {
      "name": "python3",
      "display_name": "Python 3"
    },
    "language_info": {
      "name": "python"
    },
    "accelerator": "GPU"
  },
  "cells": [
    {
      "cell_type": "markdown",
      "metadata": {
        "id": "view-in-github",
        "colab_type": "text"
      },
      "source": [
        "<a href=\"https://colab.research.google.com/github/mdemarco1/CSC2053Final/blob/main/cnn_test1.ipynb\" target=\"_parent\"><img src=\"https://colab.research.google.com/assets/colab-badge.svg\" alt=\"Open In Colab\"/></a>"
      ]
    },
    {
      "cell_type": "code",
      "execution_count": null,
      "metadata": {
        "id": "kNNUevOF6Kjl"
      },
      "outputs": [],
      "source": [
        "import os\n",
        "import tensorflow as tf\n",
        "import numpy as np\n",
        "from tensorflow import keras\n",
        "import matplotlib.pyplot as plt\n",
        "import numpy as np"
      ]
    },
    {
      "cell_type": "code",
      "source": [
        "data_path = './drive/MyDrive/incabin_data/ar_images'"
      ],
      "metadata": {
        "id": "Fo6xTg1Ija_d"
      },
      "execution_count": null,
      "outputs": []
    },
    {
      "cell_type": "code",
      "source": [
        "def group_graphs(dataset_dir, group_size=6):\n",
        "    images = []\n",
        "    labels = []\n",
        "\n",
        "    # Loop through each class folder (e.g., EXXX, LXXX)\n",
        "    for class_name in os.listdir(dataset_dir):\n",
        "        class_path = os.path.join(dataset_dir, class_name)\n",
        "\n",
        "        if os.path.isdir(class_path):\n",
        "            for file_name in sorted(os.listdir(class_path)):\n",
        "                if '_graph1.png' in file_name:  # Detect start of a trial (first graph)\n",
        "                    trial_images = []\n",
        "                    trial_prefix = file_name[:-11]  # e.g., EXXX1\n",
        "\n",
        "                    # Collect all 6 graphs for this trial\n",
        "                    for i in range(1, group_size + 1):\n",
        "                        graph_file = f'{trial_prefix}_graph{i}.png'\n",
        "                        graph_path = os.path.join(class_path, graph_file)\n",
        "\n",
        "                        if os.path.exists(graph_path):\n",
        "                            img = tf.io.read_file(graph_path)\n",
        "                            img = tf.image.decode_png(img, channels=3)\n",
        "                            img = tf.image.resize(img, [256, 256])\n",
        "                            trial_images.append(img)\n",
        "\n",
        "                    if len(trial_images) == group_size:  # Ensure all 6 graphs are present\n",
        "                        images.append(tf.stack(trial_images))  # Stack 6 images for one trial\n",
        "                        labels.append(class_name)  # Assign class label based on folder name\n",
        "\n",
        "    return tf.data.Dataset.from_tensor_slices((images, labels))\n"
      ],
      "metadata": {
        "id": "7z1Q_FiPzhwd"
      },
      "execution_count": null,
      "outputs": []
    },
    {
      "cell_type": "code",
      "source": [
        "grouped_dataset = group_graphs(data_path)"
      ],
      "metadata": {
        "id": "DACL2xYuzpOA"
      },
      "execution_count": null,
      "outputs": []
    },
    {
      "cell_type": "code",
      "source": [
        "for grouped_images, label in grouped_dataset.take(1):\n",
        "  print(grouped_images.shape)\n",
        "  print(label)"
      ],
      "metadata": {
        "colab": {
          "base_uri": "https://localhost:8080/"
        },
        "id": "Xmuwi1ND0YDp",
        "outputId": "e3a3ae87-b500-4408-9b40-01fce8c29596"
      },
      "execution_count": null,
      "outputs": [
        {
          "output_type": "stream",
          "name": "stdout",
          "text": [
            "(6, 256, 256, 3)\n",
            "tf.Tensor(b'XXXL', shape=(), dtype=string)\n"
          ]
        }
      ]
    },
    {
      "cell_type": "code",
      "source": [
        "class_mapping = {'EXXX': 0, 'LXXX': 1, 'XEXX': 2, 'XLXX': 3, 'XXEX': 4, 'XXLX': 5, 'XXXE': 6, 'XXXL': 7}\n",
        "\n",
        "# Create a lookup table for the class names\n",
        "keys_tensor = tf.constant(list(class_mapping.keys()))  # Class names (strings)\n",
        "vals_tensor = tf.constant(list(class_mapping.values()))  # Corresponding integers\n",
        "\n",
        "# Create the lookup table\n",
        "table = tf.lookup.StaticHashTable(\n",
        "    initializer=tf.lookup.KeyValueTensorInitializer(keys_tensor, vals_tensor),\n",
        "    default_value=-1  # Default value for unknown keys\n",
        ")\n",
        "\n",
        "# Function to map string labels to numeric labels using the lookup table\n",
        "def map_labels(images, label):\n",
        "    # Convert the class name (string) to a tensor\n",
        "    label_tensor = tf.convert_to_tensor(label)\n",
        "\n",
        "    # Use the lookup table to map the label string to a numeric label\n",
        "    numeric_label = table.lookup(label_tensor)\n",
        "\n",
        "    return images, numeric_label\n",
        "\n",
        "# Apply the mapping to the dataset\n",
        "numeric_dataset = grouped_dataset.map(map_labels)\n",
        "# numeric_dataset = grouped_dataset.filter(filter_invalid_labels)\n",
        "# Preview the dataset with numeric labels\n",
        "for grouped_images, label in numeric_dataset.take(1):\n",
        "    print(grouped_images.shape)  # (6, 256, 256, 3)\n",
        "    print(label)                 # Numeric label (0-7)\n"
      ],
      "metadata": {
        "id": "NDW-a421j_Dh",
        "colab": {
          "base_uri": "https://localhost:8080/"
        },
        "outputId": "5b64a6e8-dde4-4f7a-8901-85c62793032b"
      },
      "execution_count": null,
      "outputs": [
        {
          "output_type": "stream",
          "name": "stdout",
          "text": [
            "(6, 256, 256, 3)\n",
            "tf.Tensor(7, shape=(), dtype=int32)\n"
          ]
        }
      ]
    },
    {
      "cell_type": "code",
      "source": [
        "dataset_size = numeric_dataset.cardinality().numpy()\n",
        "train_size = int(0.8 * dataset_size)\n",
        "\n",
        "# Shuffle the dataset before splitting\n",
        "numeric_dataset = numeric_dataset.shuffle(buffer_size=dataset_size)\n",
        "\n",
        "# Split into train and test datasets\n",
        "train_dataset = numeric_dataset.take(train_size)\n",
        "test_dataset = numeric_dataset.skip(train_size)\n",
        "\n",
        "# Batch the datasets\n",
        "batch_size = 32\n",
        "train_dataset = train_dataset.batch(batch_size)\n",
        "test_dataset = test_dataset.batch(batch_size)"
      ],
      "metadata": {
        "id": "GsV6UQp7Snob"
      },
      "execution_count": null,
      "outputs": []
    },
    {
      "cell_type": "code",
      "source": [
        "# CNN model\n",
        "input_layer = tf.keras.layers.Input(shape=(6, 256, 256, 3))  # 6 images, each 256x256x3\n",
        "conv_layers = []\n",
        "\n",
        "# Apply Conv2D separately to each of the 6 graphs\n",
        "for i in range(6):\n",
        "    conv = tf.keras.layers.Conv2D(32, (3, 3), activation='relu')(input_layer[:, i])\n",
        "    pool = tf.keras.layers.MaxPooling2D((2, 2))(conv)\n",
        "    conv_layers.append(pool)\n",
        "\n",
        "# Concatenate the outputs from all 6 graphs\n",
        "concatenated = tf.keras.layers.Concatenate(axis=1)(conv_layers)\n",
        "\n",
        "# Flatten and feed into dense layers\n",
        "flat = tf.keras.layers.Flatten()(concatenated)\n",
        "dense1 = tf.keras.layers.Dense(128, activation='relu')(flat)\n",
        "output_layer = tf.keras.layers.Dense(8, activation='softmax')(dense1)\n",
        "\n",
        "# Create the model\n",
        "model = tf.keras.models.Model(inputs=input_layer, outputs=output_layer)\n",
        "\n",
        "# Compile the model\n",
        "model.compile(optimizer='adam',\n",
        "              loss='sparse_categorical_crossentropy',\n",
        "              metrics=['accuracy'])\n",
        "\n",
        "# Train the model\n",
        "history = model.fit(train_dataset, epochs=10, validation_data=test_dataset)\n",
        "\n",
        "# Evaluate the model\n",
        "test_loss, test_accuracy = model.evaluate(test_dataset)\n",
        "print(f\"Test Loss: {test_loss}\")\n",
        "print(f\"Test Accuracy: {test_accuracy}\")\n"
      ],
      "metadata": {
        "colab": {
          "base_uri": "https://localhost:8080/"
        },
        "id": "d-kD4y-K1RIx",
        "outputId": "eea933c2-53db-4371-a90b-c2b2fad1ed40"
      },
      "execution_count": null,
      "outputs": [
        {
          "output_type": "stream",
          "name": "stdout",
          "text": [
            "Epoch 1/10\n",
            "\u001b[1m2/2\u001b[0m \u001b[32m━━━━━━━━━━━━━━━━━━━━\u001b[0m\u001b[37m\u001b[0m \u001b[1m27s\u001b[0m 14s/step - accuracy: 0.1593 - loss: 20336.5566 - val_accuracy: 0.1250 - val_loss: 101074.5391\n",
            "Epoch 2/10\n",
            "\u001b[1m2/2\u001b[0m \u001b[32m━━━━━━━━━━━━━━━━━━━━\u001b[0m\u001b[37m\u001b[0m \u001b[1m18s\u001b[0m 320ms/step - accuracy: 0.1912 - loss: 87310.7344 - val_accuracy: 0.1250 - val_loss: 75019.0391\n",
            "Epoch 3/10\n",
            "\u001b[1m2/2\u001b[0m \u001b[32m━━━━━━━━━━━━━━━━━━━━\u001b[0m\u001b[37m\u001b[0m \u001b[1m1s\u001b[0m 322ms/step - accuracy: 0.1919 - loss: 97113.5859 - val_accuracy: 0.3750 - val_loss: 45682.1016\n",
            "Epoch 4/10\n",
            "\u001b[1m2/2\u001b[0m \u001b[32m━━━━━━━━━━━━━━━━━━━━\u001b[0m\u001b[37m\u001b[0m \u001b[1m1s\u001b[0m 377ms/step - accuracy: 0.2668 - loss: 44048.0977 - val_accuracy: 0.3125 - val_loss: 19024.7441\n",
            "Epoch 5/10\n",
            "\u001b[1m2/2\u001b[0m \u001b[32m━━━━━━━━━━━━━━━━━━━━\u001b[0m\u001b[37m\u001b[0m \u001b[1m1s\u001b[0m 380ms/step - accuracy: 0.3088 - loss: 32875.1328 - val_accuracy: 0.4375 - val_loss: 17278.4453\n",
            "Epoch 6/10\n",
            "\u001b[1m2/2\u001b[0m \u001b[32m━━━━━━━━━━━━━━━━━━━━\u001b[0m\u001b[37m\u001b[0m \u001b[1m1s\u001b[0m 364ms/step - accuracy: 0.5423 - loss: 14884.4746 - val_accuracy: 0.8125 - val_loss: 2354.9265\n",
            "Epoch 7/10\n",
            "\u001b[1m2/2\u001b[0m \u001b[32m━━━━━━━━━━━━━━━━━━━━\u001b[0m\u001b[37m\u001b[0m \u001b[1m1s\u001b[0m 359ms/step - accuracy: 0.7769 - loss: 3676.0244 - val_accuracy: 1.0000 - val_loss: 0.0000e+00\n",
            "Epoch 8/10\n",
            "\u001b[1m2/2\u001b[0m \u001b[32m━━━━━━━━━━━━━━━━━━━━\u001b[0m\u001b[37m\u001b[0m \u001b[1m1s\u001b[0m 387ms/step - accuracy: 1.0000 - loss: 0.0000e+00 - val_accuracy: 1.0000 - val_loss: 0.0000e+00\n",
            "Epoch 9/10\n",
            "\u001b[1m2/2\u001b[0m \u001b[32m━━━━━━━━━━━━━━━━━━━━\u001b[0m\u001b[37m\u001b[0m \u001b[1m1s\u001b[0m 322ms/step - accuracy: 0.9677 - loss: 155.9072 - val_accuracy: 0.9375 - val_loss: 256.7939\n",
            "Epoch 10/10\n",
            "\u001b[1m2/2\u001b[0m \u001b[32m━━━━━━━━━━━━━━━━━━━━\u001b[0m\u001b[37m\u001b[0m \u001b[1m1s\u001b[0m 322ms/step - accuracy: 0.9570 - loss: 375.3323 - val_accuracy: 0.9375 - val_loss: 6.1905\n",
            "\u001b[1m1/1\u001b[0m \u001b[32m━━━━━━━━━━━━━━━━━━━━\u001b[0m\u001b[37m\u001b[0m \u001b[1m0s\u001b[0m 86ms/step - accuracy: 1.0000 - loss: 0.0000e+00\n",
            "Test Loss: 0.0\n",
            "Test Accuracy: 1.0\n"
          ]
        }
      ]
    },
    {
      "cell_type": "code",
      "source": [
        "plt.plot(history.history['accuracy'], label='train accuracy')\n",
        "plt.plot(history.history['val_accuracy'], label='val accuracy')\n",
        "plt.title('Model Accuracy')\n",
        "plt.xlabel('Epochs')\n",
        "plt.ylabel('Accuracy')\n",
        "plt.legend()\n",
        "plt.show()\n",
        "\n",
        "# Plot loss\n",
        "plt.plot(history.history['loss'], label='train loss')\n",
        "plt.plot(history.history['val_loss'], label='val loss')\n",
        "plt.title('Model Loss')\n",
        "plt.xlabel('Epochs')\n",
        "plt.ylabel('Loss')\n",
        "plt.legend()\n",
        "plt.show()"
      ],
      "metadata": {
        "colab": {
          "base_uri": "https://localhost:8080/",
          "height": 927
        },
        "id": "GyeaiXxFA5fr",
        "outputId": "f4c098ec-ee37-4bd5-d397-076ada726f10"
      },
      "execution_count": null,
      "outputs": [
        {
          "output_type": "display_data",
          "data": {
            "text/plain": [
              "<Figure size 640x480 with 1 Axes>"
            ],
            "image/png": "[encoded data removed]"
          },
          "metadata": {}
        },
        {
          "output_type": "display_data",
          "data": {
            "text/plain": [
              "<Figure size 640x480 with 1 Axes>"
            ],
            "image/png": "[encoded data removed]"
          },
          "metadata": {}
        }
      ]
    },
    {
      "cell_type": "code",
      "source": [],
      "metadata": {
        "colab": {
          "base_uri": "https://localhost:8080/"
        },
        "id": "2WbL1qsZTOYR",
        "outputId": "a3b6d881-d5a4-421b-95bf-36cecc0ac6aa"
      },
      "execution_count": null,
      "outputs": [
        {
          "output_type": "execute_result",
          "data": {
            "text/plain": [
              "['.config', 'drive', 'sample_data']"
            ]
          },
          "metadata": {},
          "execution_count": 20
        }
      ]
    },
    {
      "cell_type": "code",
      "source": [
        "model.save('./drive/MyDrive/incabin_data/first_cnn.keras')"
      ],
      "metadata": {
        "id": "PTlUPQcC2OqN"
      },
      "execution_count": null,
      "outputs": []
    },
    {
      "cell_type": "markdown",
      "source": [
        "Testing the saved model with apparent accuracy 1 and loss 0"
      ],
      "metadata": {
        "id": "uuORk0A97Z1a"
      }
    },
    {
      "cell_type": "code",
      "source": [
        "def preprocess_image(image_path):\n",
        "    image = tf.keras.preprocessing.image.load_img(image_path, target_size=(256, 256))  # Load and resize image\n",
        "    image = tf.keras.preprocessing.image.img_to_array(image)  # Convert to array\n",
        "    image = image / 255.0  # Normalize to [0,1]\n",
        "    return image"
      ],
      "metadata": {
        "id": "jMHgO3Vr7ZFk"
      },
      "execution_count": null,
      "outputs": []
    },
    {
      "cell_type": "code",
      "source": [
        "model = keras.models.load_model('./drive/MyDrive/incabin_data/first_cnn.keras')"
      ],
      "metadata": {
        "id": "kltGRs3G_64O"
      },
      "execution_count": null,
      "outputs": []
    },
    {
      "cell_type": "code",
      "source": [
        "from google.colab import drive\n",
        "drive.mount('/content/drive')\n",
        "# os.listdir()"
      ],
      "metadata": {
        "colab": {
          "base_uri": "https://localhost:8080/"
        },
        "id": "PLYL-lpoHj1L",
        "outputId": "f953fdb7-aaa3-4c11-ebd1-1069df50bef1"
      },
      "execution_count": null,
      "outputs": [
        {
          "output_type": "stream",
          "name": "stdout",
          "text": [
            "Drive already mounted at /content/drive; to attempt to forcibly remount, call drive.mount(\"/content/drive\", force_remount=True).\n"
          ]
        }
      ]
    },
    {
      "cell_type": "code",
      "source": [
        "output_map = {\n",
        "    0: '1 person entered the drivers seat',\n",
        "    1: '1 person exited the drivers seat',\n",
        "    2: '1 person entered the passenger seat',\n",
        "    3: '1 person exited the passenger seat',\n",
        "    4: '1 person entered the back right seat',\n",
        "    5: '1 person exited the back right seat',\n",
        "    6: '1 person entered the back left seat',\n",
        "    7: '1 person exited the back left seat'\n",
        "}\n",
        "\n",
        "# graph_paths = [\n",
        "#     './drive/MyDrive/incabin_data/ar_images/XXXE/XXXE6_graph1.png',\n",
        "#     './drive/MyDrive/incabin_data/ar_images/XXXE/XXXE6_graph2.png',\n",
        "#     './drive/MyDrive/incabin_data/ar_images/XXXE/XXXE6_graph3.png',\n",
        "#     './drive/MyDrive/incabin_data/ar_images/XXXE/XXXE6_graph4.png',\n",
        "#     './drive/MyDrive/incabin_data/ar_images/XXXE/XXXE6_graph5.png',\n",
        "#     './drive/MyDrive/incabin_data/ar_images/XXXE/XXXE6_graph6.png'\n",
        "# ]\n",
        "\n",
        "# graph_paths = [\n",
        "#     './drive/MyDrive/incabin_data/test_enter/test_graph1.png',\n",
        "#     './drive/MyDrive/incabin_data/test_enter/test_graph2.png',\n",
        "#     './drive/MyDrive/incabin_data/test_enter/test_graph3.png',\n",
        "#     './drive/MyDrive/incabin_data/test_enter/test_graph4.png',\n",
        "#     './drive/MyDrive/incabin_data/test_enter/test_graph5.png',\n",
        "#     './drive/MyDrive/incabin_data/test_enter/test_graph6.png'\n",
        "# ]\n",
        "\n",
        "graph_paths = [\n",
        "    './drive/MyDrive/incabin_data/test_1p/test_graph1.png',\n",
        "    './drive/MyDrive/incabin_data/test_1p/test_graph2.png',\n",
        "    './drive/MyDrive/incabin_data/test_1p/test_graph3.png',\n",
        "    './drive/MyDrive/incabin_data/test_1p/test_graph4.png',\n",
        "    './drive/MyDrive/incabin_data/test_1p/test_graph5.png',\n",
        "    './drive/MyDrive/incabin_data/test_1p/test_graph6.png'\n",
        "]\n",
        "\n",
        "graphs = np.stack([preprocess_image(path) for path in graph_paths])\n",
        "\n",
        "# Add batch dimension since the model expects (batch_size, 6, 256, 256, 3)\n",
        "graphs = np.expand_dims(graphs, axis=0)\n",
        "\n",
        "predictions = model.predict(graphs)\n",
        "\n",
        "predict_class = np.argmax(predictions, axis=1)\n",
        "\n",
        "print(f'{output_map[predict_class[0]]}')"
      ],
      "metadata": {
        "colab": {
          "base_uri": "https://localhost:8080/"
        },
        "id": "qFiAnmW47g-e",
        "outputId": "afd940e8-a366-4017-8bdd-42ac3e50b93c"
      },
      "execution_count": null,
      "outputs": [
        {
          "output_type": "stream",
          "name": "stdout",
          "text": [
            "\u001b[1m1/1\u001b[0m \u001b[32m━━━━━━━━━━━━━━━━━━━━\u001b[0m\u001b[37m\u001b[0m \u001b[1m0s\u001b[0m 37ms/step\n",
            "1 person entered the drivers seat\n"
          ]
        }
      ]
    },
    {
      "cell_type": "markdown",
      "source": [],
      "metadata": {
        "id": "CfCYbm-5AghG"
      }
    }
  ]
}